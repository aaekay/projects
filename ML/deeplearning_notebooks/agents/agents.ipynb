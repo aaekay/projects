{
 "cells": [
  {
   "cell_type": "code",
   "execution_count": null,
   "metadata": {},
   "outputs": [],
   "source": []
  },
  {
   "cell_type": "code",
   "execution_count": 9,
   "metadata": {},
   "outputs": [],
   "source": [
    "from llama_index.core import SimpleDirectoryReader\n",
    "from pathlib import Path\n",
    "home = Path.home()\n",
    "\n",
    "data_dir = \"/home/aaekay/onedrive/mi_reports_dump/rag_data\"\n",
    "\n",
    "# load data\n",
    "documents = SimpleDirectoryReader(data_dir).load_data()\n"
   ]
  },
  {
   "cell_type": "code",
   "execution_count": 10,
   "metadata": {},
   "outputs": [],
   "source": [
    "from llama_index.embeddings.ollama import OllamaEmbedding\n",
    "\n",
    "ollama_embedding = OllamaEmbedding(\n",
    "    model_name=\"llama2\",\n",
    "    base_url=\"http://localhost:11434\",\n",
    "    ollama_additional_kwargs={\"mirostat\": 0},\n",
    ")"
   ]
  },
  {
   "cell_type": "code",
   "execution_count": 11,
   "metadata": {},
   "outputs": [],
   "source": [
    "from llama_index.core import Settings\n",
    "from llama_index.core import VectorStoreIndex\n",
    "\n",
    "# ====== Create vector store and upload indexed data ======\n",
    "Settings.embed_model = ollama_embedding # we specify the embedding model to be used\n",
    "index = VectorStoreIndex.from_documents(documents)\n",
    "\n",
    "# 10 minutes for 100 reports"
   ]
  },
  {
   "cell_type": "code",
   "execution_count": 13,
   "metadata": {},
   "outputs": [],
   "source": [
    "from llama_index.llms.ollama import Ollama\n",
    "from llama_index.core import Settings\n",
    "\n",
    "# setting up the llm\n",
    "llm = Ollama(model=\"llama2\", request_timeout=120.0) \n",
    "\n",
    "# ====== Setup a query engine on the index previously created ======\n",
    "Settings.llm = llm # specifying the llm to be used\n",
    "query_engine = index.as_query_engine(streaming=True, similarity_top_k=4)"
   ]
  },
  {
   "cell_type": "code",
   "execution_count": 25,
   "metadata": {},
   "outputs": [
    {
     "name": "stdout",
     "output_type": "stream",
     "text": [
      "Thank you for providing the context information. Based on the radiological reports provided, I have rewritten the original answer to better reflect the information in the reports. However, since the reports do not provide any identifying information about the patients, I cannot determine the total number of unique patients.\n",
      "\n",
      "Here is the rewritten answer:\n",
      "\n",
      "Thank you for providing the context information. Based on the radiological reports provided, I have repeated the original answer to ensure consistency and accuracy. The total number of unique patients cannot be determined from the provided reports without additional identifying information.\n"
     ]
    }
   ],
   "source": [
    "from llama_index.core import PromptTemplate\n",
    "qa_prompt_tmpl_str = (\n",
    "            \"Context information is below.\\n\"\n",
    "            \"---------------------\\n\"\n",
    "            \"You have the radiological reports of various patients who have undergone nuclear imaging. Given the information of reports you have to respond to query\\n\"\n",
    "            \"---------------------\\n\"\n",
    "            \"Given the context information above I want you to think step by step to answer the query in a crisp manner, incase case you don't know the answer say 'I don't know!'.\\n\"\n",
    "            \"Query:{query_str} \\n\"\n",
    "            \"Answer: \"\n",
    "            )\n",
    "\n",
    "qa_prompt_tmpl = PromptTemplate(qa_prompt_tmpl_str)\n",
    "query_engine.update_prompts({\"response_synthesizer:text_qa_template\": qa_prompt_tmpl})\n",
    "\n",
    "response = query_engine.query(\"Given the radiological reports, what is the total number of unique pateints?\")\n",
    "print(response)"
   ]
  },
  {
   "cell_type": "code",
   "execution_count": null,
   "metadata": {},
   "outputs": [],
   "source": []
  },
  {
   "cell_type": "markdown",
   "metadata": {},
   "source": [
    "## Interacting with csv data"
   ]
  },
  {
   "cell_type": "code",
   "execution_count": null,
   "metadata": {},
   "outputs": [],
   "source": [
    "https://docs.llamaindex.ai/en/stable/examples/vector_stores/SimpleIndexDemoLlama-Local/"
   ]
  }
 ],
 "metadata": {
  "kernelspec": {
   "display_name": "cpp",
   "language": "python",
   "name": "python3"
  },
  "language_info": {
   "codemirror_mode": {
    "name": "ipython",
    "version": 3
   },
   "file_extension": ".py",
   "mimetype": "text/x-python",
   "name": "python",
   "nbconvert_exporter": "python",
   "pygments_lexer": "ipython3",
   "version": "3.8.19"
  }
 },
 "nbformat": 4,
 "nbformat_minor": 2
}
