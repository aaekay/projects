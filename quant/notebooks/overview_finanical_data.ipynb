{
 "cells": [
  {
   "cell_type": "markdown",
   "metadata": {},
   "source": [
    "## Welcome to the first notebook in Statistical Analaysis of Financial Data in Python"
   ]
  },
  {
   "cell_type": "markdown",
   "metadata": {},
   "source": [
    "#### Pre-requisites:\n",
    "1. Understanding of probability distribution\n",
    "2. A little bit of stats"
   ]
  },
  {
   "cell_type": "markdown",
   "metadata": {},
   "source": [
    "The things we gonn use later:\n",
    "1. Expected value of a random variable\\\n",
    "2. Variance\n",
    "3. Standard Deviation\n",
    "4. Co-variance\n",
    "5. Correlation"
   ]
  },
  {
   "cell_type": "markdown",
   "metadata": {},
   "source": [
    "Let's say there is a random variable \"X\" whose value can be anything. Now let us say that I have muliple of these vaibles x = (X1, X2, X3 ..... Xd) upto d. Now the expected value of a random variable X is donated by E(X) is generally the mean of that variable represented by mu"
   ]
  },
  {
   "cell_type": "code",
   "execution_count": null,
   "metadata": {},
   "outputs": [],
   "source": []
  },
  {
   "cell_type": "code",
   "execution_count": 28,
   "metadata": {},
   "outputs": [],
   "source": [
    "import numpy as np\n",
    "row_vector = 10*np.random.rand(3)\n"
   ]
  },
  {
   "cell_type": "code",
   "execution_count": 40,
   "metadata": {},
   "outputs": [
    {
     "name": "stdout",
     "output_type": "stream",
     "text": [
      "[8.63428235 0.44884549 4.12874989]\n",
      "[17.89563358 15.64292481  0.07574019]\n"
     ]
    }
   ],
   "source": [
    "print(row_vector) # this is a row vector of a random variable\n",
    "# what would be the variance of these row numbers\n",
    "variances = ((row_vector - np.mean(row_vector))**2)                \n",
    "print(variances)\n",
    "# covariance = (row_vector - np.mean(row_vector))\n",
    "# print(covariance)      "
   ]
  },
  {
   "cell_type": "markdown",
   "metadata": {},
   "source": [
    "We can combine the above operation by making a varince-covariance matrix"
   ]
  },
  {
   "cell_type": "code",
   "execution_count": 39,
   "metadata": {},
   "outputs": [
    {
     "name": "stdout",
     "output_type": "stream",
     "text": [
      "[[74.55083175  3.87545871 35.64879235]\n",
      " [ 3.87545871  0.20146228  1.85317078]\n",
      " [35.64879235  1.85317078 17.04657569]]\n"
     ]
    }
   ],
   "source": [
    "matrix = np.outer(row_vector, row_vector)\n",
    "print(matrix)"
   ]
  },
  {
   "cell_type": "markdown",
   "metadata": {},
   "source": [
    "The diagonals of the above matrix are the variances and the rest are co-variances with respect to each other"
   ]
  },
  {
   "cell_type": "markdown",
   "metadata": {},
   "source": [
    "### Time-Series data\n",
    "Fininacial data is time series data that meand it is a function of time, x(t). \\\n",
    "Since, time is a continous data but the time we would be using can be discrete \\\n",
    "\n",
    "Such as at a given time t, we can define the the dependenc of some variable over past time as follows: \\\n",
    "xt  = f(…, xt−2, xt−1) + ϵt, \n",
    "where f is some function, possibly unknown, and ϵt is an unobservable random variable \\\n",
    "The random variable ϵt is a “residual”, an “error term”, or especially in time series applications, an “innovation”. We generally assume that the error term, as a random variable, has the following properties.\n",
    "- For each t, the expected value of the error term is zero, that is, E(ϵt) = 0.\n",
    "- For each t, the variance of the error term is constant, that is, V(ϵt) = σ2, where σ is some positive, but perhaps unknown, number.\n",
    "- For each t and each h > 0, the correlation of two error terms is zero, that is, Cor(ϵt, ϵt+h) = 0."
   ]
  },
  {
   "cell_type": "markdown",
   "metadata": {},
   "source": []
  }
 ],
 "metadata": {
  "kernelspec": {
   "display_name": "base",
   "language": "python",
   "name": "python3"
  },
  "language_info": {
   "codemirror_mode": {
    "name": "ipython",
    "version": 3
   },
   "file_extension": ".py",
   "mimetype": "text/x-python",
   "name": "python",
   "nbconvert_exporter": "python",
   "pygments_lexer": "ipython3",
   "version": "3.9.19"
  }
 },
 "nbformat": 4,
 "nbformat_minor": 2
}
